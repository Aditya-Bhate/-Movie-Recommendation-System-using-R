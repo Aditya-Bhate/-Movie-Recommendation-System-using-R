{
  "cells": [
    {
      "cell_type": "markdown",
      "metadata": {
        "id": "eQA13cAHiy43"
      },
      "source": [
        "# **Movies Recommendation System**"
      ]
    },
    {
      "cell_type": "code",
      "execution_count": null,
      "metadata": {
        "colab": {
          "base_uri": "https://localhost:8080/"
        },
        "id": "7jWfmUZa8Z92",
        "outputId": "3fc4c18e-cd97-439d-cc73-e63f195036f9"
      },
      "outputs": [
        {
          "name": "stdout",
          "output_type": "stream",
          "text": [
            "The rpy2.ipython extension is already loaded. To reload it, use:\n",
            "  %reload_ext rpy2.ipython\n"
          ]
        }
      ],
      "source": [
        "%load_ext rpy2.ipython"
      ]
    },
    {
      "cell_type": "code",
      "execution_count": null,
      "metadata": {
        "colab": {
          "base_uri": "https://localhost:8080/"
        },
        "id": "Fud3neUa-ulm",
        "outputId": "3efaf00b-4b0a-4cc1-99e0-19e1e8a344ef"
      },
      "outputs": [
        {
          "name": "stdout",
          "output_type": "stream",
          "text": [
            "Mounted at /content/drive\n"
          ]
        }
      ],
      "source": [
        "from google.colab import drive\n",
        "drive.mount('/content/drive')"
      ]
    },
    {
      "cell_type": "code",
      "execution_count": null,
      "metadata": {
        "id": "f_gW7t-o_DgL"
      },
      "outputs": [],
      "source": [
        "!pwd"
      ]
    },
    {
      "cell_type": "markdown",
      "metadata": {
        "id": "SszN-g5PjMD8"
      },
      "source": [
        "# **1. Necessary Libraries to be imported**"
      ]
    },
    {
      "cell_type": "code",
      "execution_count": null,
      "metadata": {
        "colab": {
          "base_uri": "https://localhost:8080/"
        },
        "id": "YKSCSAkC_J_q",
        "outputId": "32db2a00-634f-4561-c9f5-1ec668e1bb18"
      },
      "outputs": [
        {
          "name": "stderr",
          "output_type": "stream",
          "text": [
            "R[write to console]: Installing package into ‘/usr/local/lib/R/site-library’\n",
            "(as ‘lib’ is unspecified)\n",
            "\n",
            "R[write to console]: also installing the dependencies ‘Rcpp’, ‘float’, ‘RcppProgress’, ‘arules’, ‘proxy’, ‘registry’, ‘irlba’, ‘recosystem’, ‘matrixStats’\n",
            "\n",
            "\n",
            "R[write to console]: trying URL 'http://cran.rstudio.com/src/contrib/Rcpp_1.0.8.3.tar.gz'\n",
            "\n",
            "R[write to console]: Content type 'application/x-gzip'\n",
            "R[write to console]:  length 3086192 bytes (2.9 MB)\n",
            "\n",
            "R[write to console]: =\n",
            "R[write to console]: =\n",
            "R[write to console]: =\n",
            "R[write to console]: =\n",
            "R[write to console]: =\n",
            "R[write to console]: =\n",
            "R[write to console]: =\n",
            "R[write to console]: =\n",
            "R[write to console]: =\n",
            "R[write to console]: =\n",
            "R[write to console]: =\n",
            "R[write to console]: =\n",
            "R[write to console]: =\n",
            "R[write to console]: =\n",
            "R[write to console]: =\n",
            "R[write to console]: =\n",
            "R[write to console]: =\n",
            "R[write to console]: =\n",
            "R[write to console]: =\n",
            "R[write to console]: =\n",
            "R[write to console]: =\n",
            "R[write to console]: =\n",
            "R[write to console]: =\n",
            "R[write to console]: =\n",
            "R[write to console]: =\n",
            "R[write to console]: =\n",
            "R[write to console]: =\n",
            "R[write to console]: =\n",
            "R[write to console]: =\n",
            "R[write to console]: =\n",
            "R[write to console]: =\n",
            "R[write to console]: =\n",
            "R[write to console]: =\n",
            "R[write to console]: =\n",
            "R[write to console]: =\n",
            "R[write to console]: =\n",
            "R[write to console]: =\n",
            "R[write to console]: =\n",
            "R[write to console]: =\n",
            "R[write to console]: =\n",
            "R[write to console]: =\n",
            "R[write to console]: =\n",
            "R[write to console]: =\n",
            "R[write to console]: =\n",
            "R[write to console]: =\n",
            "R[write to console]: =\n",
            "R[write to console]: =\n",
            "R[write to console]: =\n",
            "R[write to console]: =\n",
            "R[write to console]: =\n",
            "R[write to console]: \n",
            "\n",
            "R[write to console]: downloaded 2.9 MB\n",
            "\n",
            "\n",
            "R[write to console]: trying URL 'http://cran.rstudio.com/src/contrib/float_0.3-0.tar.gz'\n",
            "\n",
            "R[write to console]: Content type 'application/x-gzip'\n",
            "R[write to console]:  length 1425826 bytes (1.4 MB)\n",
            "\n",
            "R[write to console]: =\n",
            "R[write to console]: =\n",
            "R[write to console]: =\n",
            "R[write to console]: =\n",
            "R[write to console]: =\n",
            "R[write to console]: =\n",
            "R[write to console]: =\n",
            "R[write to console]: =\n",
            "R[write to console]: =\n",
            "R[write to console]: =\n",
            "R[write to console]: =\n",
            "R[write to console]: =\n",
            "R[write to console]: =\n",
            "R[write to console]: =\n",
            "R[write to console]: =\n",
            "R[write to console]: =\n",
            "R[write to console]: =\n",
            "R[write to console]: =\n",
            "R[write to console]: =\n",
            "R[write to console]: =\n",
            "R[write to console]: =\n",
            "R[write to console]: =\n",
            "R[write to console]: =\n",
            "R[write to console]: =\n",
            "R[write to console]: =\n",
            "R[write to console]: =\n",
            "R[write to console]: =\n",
            "R[write to console]: =\n",
            "R[write to console]: =\n",
            "R[write to console]: =\n",
            "R[write to console]: =\n",
            "R[write to console]: =\n",
            "R[write to console]: =\n",
            "R[write to console]: =\n",
            "R[write to console]: =\n",
            "R[write to console]: =\n",
            "R[write to console]: =\n",
            "R[write to console]: =\n",
            "R[write to console]: =\n",
            "R[write to console]: =\n",
            "R[write to console]: =\n",
            "R[write to console]: =\n",
            "R[write to console]: =\n",
            "R[write to console]: =\n",
            "R[write to console]: =\n",
            "R[write to console]: =\n",
            "R[write to console]: =\n",
            "R[write to console]: =\n",
            "R[write to console]: =\n",
            "R[write to console]: =\n",
            "R[write to console]: \n",
            "\n",
            "R[write to console]: downloaded 1.4 MB\n",
            "\n",
            "\n",
            "R[write to console]: trying URL 'http://cran.rstudio.com/src/contrib/RcppProgress_0.4.2.tar.gz'\n",
            "\n",
            "R[write to console]: Content type 'application/x-gzip'\n",
            "R[write to console]:  length 12077 bytes (11 KB)\n",
            "\n",
            "R[write to console]: =\n",
            "R[write to console]: =\n",
            "R[write to console]: =\n",
            "R[write to console]: =\n",
            "R[write to console]: =\n",
            "R[write to console]: =\n",
            "R[write to console]: =\n",
            "R[write to console]: =\n",
            "R[write to console]: =\n",
            "R[write to console]: =\n",
            "R[write to console]: =\n",
            "R[write to console]: =\n",
            "R[write to console]: =\n",
            "R[write to console]: =\n",
            "R[write to console]: =\n",
            "R[write to console]: =\n",
            "R[write to console]: =\n",
            "R[write to console]: =\n",
            "R[write to console]: =\n",
            "R[write to console]: =\n",
            "R[write to console]: =\n",
            "R[write to console]: =\n",
            "R[write to console]: =\n",
            "R[write to console]: =\n",
            "R[write to console]: =\n",
            "R[write to console]: =\n",
            "R[write to console]: =\n",
            "R[write to console]: =\n",
            "R[write to console]: =\n",
            "R[write to console]: =\n",
            "R[write to console]: =\n",
            "R[write to console]: =\n",
            "R[write to console]: =\n",
            "R[write to console]: =\n",
            "R[write to console]: =\n",
            "R[write to console]: =\n",
            "R[write to console]: =\n",
            "R[write to console]: =\n",
            "R[write to console]: =\n",
            "R[write to console]: =\n",
            "R[write to console]: =\n",
            "R[write to console]: =\n",
            "R[write to console]: =\n",
            "R[write to console]: =\n",
            "R[write to console]: =\n",
            "R[write to console]: =\n",
            "R[write to console]: =\n",
            "R[write to console]: =\n",
            "R[write to console]: =\n",
            "R[write to console]: =\n",
            "R[write to console]: \n",
            "\n",
            "R[write to console]: downloaded 11 KB\n",
            "\n",
            "\n",
            "R[write to console]: trying URL 'http://cran.rstudio.com/src/contrib/arules_1.7-3.tar.gz'\n",
            "\n",
            "R[write to console]: Content type 'application/x-gzip'\n",
            "R[write to console]:  length 1897983 bytes (1.8 MB)\n",
            "\n",
            "R[write to console]: =\n",
            "R[write to console]: =\n",
            "R[write to console]: =\n",
            "R[write to console]: =\n",
            "R[write to console]: =\n",
            "R[write to console]: =\n",
            "R[write to console]: =\n",
            "R[write to console]: =\n",
            "R[write to console]: =\n",
            "R[write to console]: =\n",
            "R[write to console]: =\n",
            "R[write to console]: =\n",
            "R[write to console]: =\n",
            "R[write to console]: =\n",
            "R[write to console]: =\n",
            "R[write to console]: =\n",
            "R[write to console]: =\n",
            "R[write to console]: =\n",
            "R[write to console]: =\n",
            "R[write to console]: =\n",
            "R[write to console]: =\n",
            "R[write to console]: =\n",
            "R[write to console]: =\n",
            "R[write to console]: =\n",
            "R[write to console]: =\n",
            "R[write to console]: =\n",
            "R[write to console]: =\n",
            "R[write to console]: =\n",
            "R[write to console]: =\n",
            "R[write to console]: =\n",
            "R[write to console]: =\n",
            "R[write to console]: =\n",
            "R[write to console]: =\n",
            "R[write to console]: =\n",
            "R[write to console]: =\n",
            "R[write to console]: =\n",
            "R[write to console]: =\n",
            "R[write to console]: =\n",
            "R[write to console]: =\n",
            "R[write to console]: =\n",
            "R[write to console]: =\n",
            "R[write to console]: =\n",
            "R[write to console]: =\n",
            "R[write to console]: =\n",
            "R[write to console]: =\n",
            "R[write to console]: =\n",
            "R[write to console]: =\n",
            "R[write to console]: =\n",
            "R[write to console]: =\n",
            "R[write to console]: =\n",
            "R[write to console]: \n",
            "\n",
            "R[write to console]: downloaded 1.8 MB\n",
            "\n",
            "\n",
            "R[write to console]: trying URL 'http://cran.rstudio.com/src/contrib/proxy_0.4-26.tar.gz'\n",
            "\n",
            "R[write to console]: Content type 'application/x-gzip'\n",
            "R[write to console]:  length 116286 bytes (113 KB)\n",
            "\n",
            "R[write to console]: =\n",
            "R[write to console]: =\n",
            "R[write to console]: =\n",
            "R[write to console]: =\n",
            "R[write to console]: =\n",
            "R[write to console]: =\n",
            "R[write to console]: =\n",
            "R[write to console]: =\n",
            "R[write to console]: =\n",
            "R[write to console]: =\n",
            "R[write to console]: =\n",
            "R[write to console]: =\n",
            "R[write to console]: =\n",
            "R[write to console]: =\n",
            "R[write to console]: =\n",
            "R[write to console]: =\n",
            "R[write to console]: =\n",
            "R[write to console]: =\n",
            "R[write to console]: =\n",
            "R[write to console]: =\n",
            "R[write to console]: =\n",
            "R[write to console]: =\n",
            "R[write to console]: =\n",
            "R[write to console]: =\n",
            "R[write to console]: =\n",
            "R[write to console]: =\n",
            "R[write to console]: =\n",
            "R[write to console]: =\n",
            "R[write to console]: =\n",
            "R[write to console]: =\n",
            "R[write to console]: =\n",
            "R[write to console]: =\n",
            "R[write to console]: =\n",
            "R[write to console]: =\n",
            "R[write to console]: =\n",
            "R[write to console]: =\n",
            "R[write to console]: =\n",
            "R[write to console]: =\n",
            "R[write to console]: =\n",
            "R[write to console]: =\n",
            "R[write to console]: =\n",
            "R[write to console]: =\n",
            "R[write to console]: =\n",
            "R[write to console]: =\n",
            "R[write to console]: =\n",
            "R[write to console]: =\n",
            "R[write to console]: =\n",
            "R[write to console]: =\n",
            "R[write to console]: =\n",
            "R[write to console]: =\n",
            "R[write to console]: \n",
            "\n",
            "R[write to console]: downloaded 113 KB\n",
            "\n",
            "\n",
            "R[write to console]: trying URL 'http://cran.rstudio.com/src/contrib/registry_0.5-1.tar.gz'\n",
            "\n",
            "R[write to console]: Content type 'application/x-gzip'\n",
            "R[write to console]:  length 170969 bytes (166 KB)\n",
            "\n",
            "R[write to console]: =\n",
            "R[write to console]: =\n",
            "R[write to console]: =\n",
            "R[write to console]: =\n",
            "R[write to console]: =\n",
            "R[write to console]: =\n",
            "R[write to console]: =\n",
            "R[write to console]: =\n",
            "R[write to console]: =\n",
            "R[write to console]: =\n",
            "R[write to console]: =\n",
            "R[write to console]: =\n",
            "R[write to console]: =\n",
            "R[write to console]: =\n",
            "R[write to console]: =\n",
            "R[write to console]: =\n",
            "R[write to console]: =\n",
            "R[write to console]: =\n",
            "R[write to console]: =\n",
            "R[write to console]: =\n",
            "R[write to console]: =\n",
            "R[write to console]: =\n",
            "R[write to console]: =\n",
            "R[write to console]: =\n",
            "R[write to console]: =\n",
            "R[write to console]: =\n",
            "R[write to console]: =\n",
            "R[write to console]: =\n",
            "R[write to console]: =\n",
            "R[write to console]: =\n",
            "R[write to console]: =\n",
            "R[write to console]: =\n",
            "R[write to console]: =\n",
            "R[write to console]: =\n",
            "R[write to console]: =\n",
            "R[write to console]: =\n",
            "R[write to console]: =\n",
            "R[write to console]: =\n",
            "R[write to console]: =\n",
            "R[write to console]: =\n",
            "R[write to console]: =\n",
            "R[write to console]: =\n",
            "R[write to console]: =\n",
            "R[write to console]: =\n",
            "R[write to console]: =\n",
            "R[write to console]: =\n",
            "R[write to console]: =\n",
            "R[write to console]: =\n",
            "R[write to console]: =\n",
            "R[write to console]: =\n",
            "R[write to console]: \n",
            "\n",
            "R[write to console]: downloaded 166 KB\n",
            "\n",
            "\n",
            "R[write to console]: trying URL 'http://cran.rstudio.com/src/contrib/irlba_2.3.5.tar.gz'\n",
            "\n",
            "R[write to console]: Content type 'application/x-gzip'\n",
            "R[write to console]:  length 233388 bytes (227 KB)\n",
            "\n",
            "R[write to console]: =\n",
            "R[write to console]: =\n",
            "R[write to console]: =\n",
            "R[write to console]: =\n",
            "R[write to console]: =\n",
            "R[write to console]: =\n",
            "R[write to console]: =\n",
            "R[write to console]: =\n",
            "R[write to console]: =\n",
            "R[write to console]: =\n",
            "R[write to console]: =\n",
            "R[write to console]: =\n",
            "R[write to console]: =\n",
            "R[write to console]: =\n",
            "R[write to console]: =\n",
            "R[write to console]: =\n",
            "R[write to console]: =\n",
            "R[write to console]: =\n",
            "R[write to console]: =\n",
            "R[write to console]: =\n",
            "R[write to console]: =\n",
            "R[write to console]: =\n",
            "R[write to console]: =\n",
            "R[write to console]: =\n",
            "R[write to console]: =\n",
            "R[write to console]: =\n",
            "R[write to console]: =\n",
            "R[write to console]: =\n",
            "R[write to console]: =\n",
            "R[write to console]: =\n",
            "R[write to console]: =\n",
            "R[write to console]: =\n",
            "R[write to console]: =\n",
            "R[write to console]: =\n",
            "R[write to console]: =\n",
            "R[write to console]: =\n",
            "R[write to console]: =\n",
            "R[write to console]: =\n",
            "R[write to console]: =\n",
            "R[write to console]: =\n",
            "R[write to console]: =\n",
            "R[write to console]: =\n",
            "R[write to console]: =\n",
            "R[write to console]: =\n",
            "R[write to console]: =\n",
            "R[write to console]: =\n",
            "R[write to console]: =\n",
            "R[write to console]: =\n",
            "R[write to console]: =\n",
            "R[write to console]: =\n",
            "R[write to console]: \n",
            "\n",
            "R[write to console]: downloaded 227 KB\n",
            "\n",
            "\n",
            "R[write to console]: trying URL 'http://cran.rstudio.com/src/contrib/recosystem_0.5.tar.gz'\n",
            "\n",
            "R[write to console]: Content type 'application/x-gzip'\n",
            "R[write to console]:  length 182125 bytes (177 KB)\n",
            "\n",
            "R[write to console]: =\n",
            "R[write to console]: =\n",
            "R[write to console]: =\n",
            "R[write to console]: =\n",
            "R[write to console]: =\n",
            "R[write to console]: =\n",
            "R[write to console]: =\n",
            "R[write to console]: =\n",
            "R[write to console]: =\n",
            "R[write to console]: =\n",
            "R[write to console]: =\n",
            "R[write to console]: =\n",
            "R[write to console]: =\n",
            "R[write to console]: =\n",
            "R[write to console]: =\n",
            "R[write to console]: =\n",
            "R[write to console]: =\n",
            "R[write to console]: =\n",
            "R[write to console]: =\n",
            "R[write to console]: =\n",
            "R[write to console]: =\n",
            "R[write to console]: =\n",
            "R[write to console]: =\n",
            "R[write to console]: =\n",
            "R[write to console]: =\n",
            "R[write to console]: =\n",
            "R[write to console]: =\n",
            "R[write to console]: =\n",
            "R[write to console]: =\n",
            "R[write to console]: =\n",
            "R[write to console]: =\n",
            "R[write to console]: =\n",
            "R[write to console]: =\n",
            "R[write to console]: =\n",
            "R[write to console]: =\n",
            "R[write to console]: =\n",
            "R[write to console]: =\n",
            "R[write to console]: =\n",
            "R[write to console]: =\n",
            "R[write to console]: =\n",
            "R[write to console]: =\n",
            "R[write to console]: =\n",
            "R[write to console]: =\n",
            "R[write to console]: =\n",
            "R[write to console]: =\n",
            "R[write to console]: =\n",
            "R[write to console]: =\n",
            "R[write to console]: =\n",
            "R[write to console]: =\n",
            "R[write to console]: =\n",
            "R[write to console]: \n",
            "\n",
            "R[write to console]: downloaded 177 KB\n",
            "\n",
            "\n",
            "R[write to console]: trying URL 'http://cran.rstudio.com/src/contrib/matrixStats_0.62.0.tar.gz'\n",
            "\n",
            "R[write to console]: Content type 'application/x-gzip'\n",
            "R[write to console]:  length 201651 bytes (196 KB)\n",
            "\n",
            "R[write to console]: =\n",
            "R[write to console]: =\n",
            "R[write to console]: =\n",
            "R[write to console]: =\n",
            "R[write to console]: =\n",
            "R[write to console]: =\n",
            "R[write to console]: =\n",
            "R[write to console]: =\n",
            "R[write to console]: =\n",
            "R[write to console]: =\n",
            "R[write to console]: =\n",
            "R[write to console]: =\n",
            "R[write to console]: =\n",
            "R[write to console]: =\n",
            "R[write to console]: =\n",
            "R[write to console]: =\n",
            "R[write to console]: =\n",
            "R[write to console]: =\n",
            "R[write to console]: =\n",
            "R[write to console]: =\n",
            "R[write to console]: =\n",
            "R[write to console]: =\n",
            "R[write to console]: =\n",
            "R[write to console]: =\n",
            "R[write to console]: =\n",
            "R[write to console]: =\n",
            "R[write to console]: =\n",
            "R[write to console]: =\n",
            "R[write to console]: =\n",
            "R[write to console]: =\n",
            "R[write to console]: =\n",
            "R[write to console]: =\n",
            "R[write to console]: =\n",
            "R[write to console]: =\n",
            "R[write to console]: =\n",
            "R[write to console]: =\n",
            "R[write to console]: =\n",
            "R[write to console]: =\n",
            "R[write to console]: =\n",
            "R[write to console]: =\n",
            "R[write to console]: =\n",
            "R[write to console]: =\n",
            "R[write to console]: =\n",
            "R[write to console]: =\n",
            "R[write to console]: =\n",
            "R[write to console]: =\n",
            "R[write to console]: =\n",
            "R[write to console]: =\n",
            "R[write to console]: =\n",
            "R[write to console]: =\n",
            "R[write to console]: \n",
            "\n",
            "R[write to console]: downloaded 196 KB\n",
            "\n",
            "\n",
            "R[write to console]: trying URL 'http://cran.rstudio.com/src/contrib/recommenderlab_1.0.0.tar.gz'\n",
            "\n",
            "R[write to console]: Content type 'application/x-gzip'\n",
            "R[write to console]:  length 1807285 bytes (1.7 MB)\n",
            "\n",
            "R[write to console]: =\n",
            "R[write to console]: =\n",
            "R[write to console]: =\n",
            "R[write to console]: =\n",
            "R[write to console]: =\n",
            "R[write to console]: =\n",
            "R[write to console]: =\n",
            "R[write to console]: =\n",
            "R[write to console]: =\n",
            "R[write to console]: =\n",
            "R[write to console]: =\n",
            "R[write to console]: =\n",
            "R[write to console]: =\n",
            "R[write to console]: =\n",
            "R[write to console]: =\n",
            "R[write to console]: =\n",
            "R[write to console]: =\n",
            "R[write to console]: =\n",
            "R[write to console]: =\n",
            "R[write to console]: =\n",
            "R[write to console]: =\n",
            "R[write to console]: =\n",
            "R[write to console]: =\n",
            "R[write to console]: =\n",
            "R[write to console]: =\n",
            "R[write to console]: =\n",
            "R[write to console]: =\n",
            "R[write to console]: =\n",
            "R[write to console]: =\n",
            "R[write to console]: =\n",
            "R[write to console]: =\n",
            "R[write to console]: =\n",
            "R[write to console]: =\n",
            "R[write to console]: =\n",
            "R[write to console]: =\n",
            "R[write to console]: =\n",
            "R[write to console]: =\n",
            "R[write to console]: =\n",
            "R[write to console]: =\n",
            "R[write to console]: =\n",
            "R[write to console]: =\n",
            "R[write to console]: =\n",
            "R[write to console]: =\n",
            "R[write to console]: =\n",
            "R[write to console]: =\n",
            "R[write to console]: =\n",
            "R[write to console]: =\n",
            "R[write to console]: =\n",
            "R[write to console]: =\n",
            "R[write to console]: =\n",
            "R[write to console]: \n",
            "\n",
            "R[write to console]: downloaded 1.7 MB\n",
            "\n",
            "\n",
            "R[write to console]: \n",
            "\n",
            "R[write to console]: \n",
            "R[write to console]: The downloaded source packages are in\n",
            "\t‘/tmp/RtmpQgys96/downloaded_packages’\n",
            "R[write to console]: \n",
            "R[write to console]: \n",
            "\n"
          ]
        }
      ],
      "source": [
        "%%R\n",
        "install.packages('recommenderlab', repos='http://cran.rstudio.com/')"
      ]
    },
    {
      "cell_type": "code",
      "execution_count": null,
      "metadata": {
        "colab": {
          "base_uri": "https://localhost:8080/"
        },
        "id": "43-JJzXBVQ1M",
        "outputId": "c716fe28-c802-4033-ea43-7b3f893be6b5"
      },
      "outputs": [
        {
          "name": "stderr",
          "output_type": "stream",
          "text": [
            "R[write to console]: Installing package into ‘/usr/local/lib/R/site-library’\n",
            "(as ‘lib’ is unspecified)\n",
            "\n",
            "R[write to console]: also installing the dependency ‘plyr’\n",
            "\n",
            "\n",
            "R[write to console]: trying URL 'https://cran.rstudio.com/src/contrib/plyr_1.8.7.tar.gz'\n",
            "\n",
            "R[write to console]: Content type 'application/x-gzip'\n",
            "R[write to console]:  length 401481 bytes (392 KB)\n",
            "\n",
            "R[write to console]: =\n",
            "R[write to console]: =\n",
            "R[write to console]: =\n",
            "R[write to console]: =\n",
            "R[write to console]: =\n",
            "R[write to console]: =\n",
            "R[write to console]: =\n",
            "R[write to console]: =\n",
            "R[write to console]: =\n",
            "R[write to console]: =\n",
            "R[write to console]: =\n",
            "R[write to console]: =\n",
            "R[write to console]: =\n",
            "R[write to console]: =\n",
            "R[write to console]: =\n",
            "R[write to console]: =\n",
            "R[write to console]: =\n",
            "R[write to console]: =\n",
            "R[write to console]: =\n",
            "R[write to console]: =\n",
            "R[write to console]: =\n",
            "R[write to console]: =\n",
            "R[write to console]: =\n",
            "R[write to console]: =\n",
            "R[write to console]: =\n",
            "R[write to console]: =\n",
            "R[write to console]: =\n",
            "R[write to console]: =\n",
            "R[write to console]: =\n",
            "R[write to console]: =\n",
            "R[write to console]: =\n",
            "R[write to console]: =\n",
            "R[write to console]: =\n",
            "R[write to console]: =\n",
            "R[write to console]: =\n",
            "R[write to console]: =\n",
            "R[write to console]: =\n",
            "R[write to console]: =\n",
            "R[write to console]: =\n",
            "R[write to console]: =\n",
            "R[write to console]: =\n",
            "R[write to console]: =\n",
            "R[write to console]: =\n",
            "R[write to console]: =\n",
            "R[write to console]: =\n",
            "R[write to console]: =\n",
            "R[write to console]: =\n",
            "R[write to console]: =\n",
            "R[write to console]: =\n",
            "R[write to console]: =\n",
            "R[write to console]: \n",
            "\n",
            "R[write to console]: downloaded 392 KB\n",
            "\n",
            "\n",
            "R[write to console]: trying URL 'https://cran.rstudio.com/src/contrib/reshape2_1.4.4.tar.gz'\n",
            "\n",
            "R[write to console]: Content type 'application/x-gzip'\n",
            "R[write to console]:  length 37307 bytes (36 KB)\n",
            "\n",
            "R[write to console]: =\n",
            "R[write to console]: =\n",
            "R[write to console]: =\n",
            "R[write to console]: =\n",
            "R[write to console]: =\n",
            "R[write to console]: =\n",
            "R[write to console]: =\n",
            "R[write to console]: =\n",
            "R[write to console]: =\n",
            "R[write to console]: =\n",
            "R[write to console]: =\n",
            "R[write to console]: =\n",
            "R[write to console]: =\n",
            "R[write to console]: =\n",
            "R[write to console]: =\n",
            "R[write to console]: =\n",
            "R[write to console]: =\n",
            "R[write to console]: =\n",
            "R[write to console]: =\n",
            "R[write to console]: =\n",
            "R[write to console]: =\n",
            "R[write to console]: =\n",
            "R[write to console]: =\n",
            "R[write to console]: =\n",
            "R[write to console]: =\n",
            "R[write to console]: =\n",
            "R[write to console]: =\n",
            "R[write to console]: =\n",
            "R[write to console]: =\n",
            "R[write to console]: =\n",
            "R[write to console]: =\n",
            "R[write to console]: =\n",
            "R[write to console]: =\n",
            "R[write to console]: =\n",
            "R[write to console]: =\n",
            "R[write to console]: =\n",
            "R[write to console]: =\n",
            "R[write to console]: =\n",
            "R[write to console]: =\n",
            "R[write to console]: =\n",
            "R[write to console]: =\n",
            "R[write to console]: =\n",
            "R[write to console]: =\n",
            "R[write to console]: =\n",
            "R[write to console]: =\n",
            "R[write to console]: =\n",
            "R[write to console]: =\n",
            "R[write to console]: =\n",
            "R[write to console]: =\n",
            "R[write to console]: =\n",
            "R[write to console]: \n",
            "\n",
            "R[write to console]: downloaded 36 KB\n",
            "\n",
            "\n",
            "R[write to console]: \n",
            "\n",
            "R[write to console]: \n",
            "R[write to console]: The downloaded source packages are in\n",
            "\t‘/tmp/RtmpQgys96/downloaded_packages’\n",
            "R[write to console]: \n",
            "R[write to console]: \n",
            "\n"
          ]
        }
      ],
      "source": [
        "%%R\n",
        "install.packages(\"reshape2\")"
      ]
    },
    {
      "cell_type": "code",
      "execution_count": null,
      "metadata": {
        "colab": {
          "background_save": true,
          "base_uri": "https://localhost:8080/"
        },
        "id": "eKrqzCs1WOXB",
        "outputId": "0776cc99-2685-4335-b6d1-e2a8584a9ee8"
      },
      "outputs": [
        {
          "name": "stderr",
          "output_type": "stream",
          "text": [
            "R[write to console]: Installing package into ‘/usr/local/lib/R/site-library’\n",
            "(as ‘lib’ is unspecified)\n",
            "\n",
            "R[write to console]: trying URL 'https://cran.rstudio.com/src/contrib/data.table_1.14.2.tar.gz'\n",
            "\n",
            "R[write to console]: Content type 'application/x-gzip'\n",
            "R[write to console]:  length 5301817 bytes (5.1 MB)\n",
            "\n",
            "R[write to console]: =\n",
            "R[write to console]: =\n",
            "R[write to console]: =\n",
            "R[write to console]: =\n",
            "R[write to console]: =\n",
            "R[write to console]: =\n",
            "R[write to console]: =\n",
            "R[write to console]: =\n",
            "R[write to console]: =\n",
            "R[write to console]: =\n",
            "R[write to console]: =\n",
            "R[write to console]: =\n",
            "R[write to console]: =\n",
            "R[write to console]: =\n",
            "R[write to console]: =\n",
            "R[write to console]: =\n",
            "R[write to console]: =\n",
            "R[write to console]: =\n",
            "R[write to console]: =\n",
            "R[write to console]: =\n",
            "R[write to console]: =\n",
            "R[write to console]: =\n",
            "R[write to console]: =\n",
            "R[write to console]: =\n",
            "R[write to console]: =\n",
            "R[write to console]: =\n",
            "R[write to console]: =\n",
            "R[write to console]: =\n",
            "R[write to console]: =\n",
            "R[write to console]: =\n",
            "R[write to console]: =\n",
            "R[write to console]: =\n",
            "R[write to console]: =\n",
            "R[write to console]: =\n",
            "R[write to console]: =\n",
            "R[write to console]: =\n",
            "R[write to console]: =\n",
            "R[write to console]: =\n",
            "R[write to console]: =\n",
            "R[write to console]: =\n",
            "R[write to console]: =\n",
            "R[write to console]: =\n",
            "R[write to console]: =\n",
            "R[write to console]: =\n",
            "R[write to console]: =\n",
            "R[write to console]: =\n",
            "R[write to console]: =\n",
            "R[write to console]: =\n",
            "R[write to console]: =\n",
            "R[write to console]: =\n",
            "R[write to console]: \n",
            "\n",
            "R[write to console]: downloaded 5.1 MB\n",
            "\n",
            "\n",
            "R[write to console]: \n",
            "\n",
            "R[write to console]: \n",
            "R[write to console]: The downloaded source packages are in\n",
            "\t‘/tmp/RtmpQgys96/downloaded_packages’\n",
            "R[write to console]: \n",
            "R[write to console]: \n",
            "\n"
          ]
        }
      ],
      "source": [
        "%%R\n",
        "install.packages('data.table')"
      ]
    },
    {
      "cell_type": "code",
      "execution_count": null,
      "metadata": {
        "id": "dnxqEzzZWnMU"
      },
      "outputs": [],
      "source": [
        "%%R\n",
        "install.packages(\"ggplot2\")"
      ]
    },
    {
      "cell_type": "code",
      "execution_count": null,
      "metadata": {
        "id": "6-BRNUfxWtjL"
      },
      "outputs": [],
      "source": [
        ""
      ]
    },
    {
      "cell_type": "code",
      "execution_count": null,
      "metadata": {
        "id": "8m-ickpNBy0W"
      },
      "outputs": [],
      "source": [
        "%%R\n",
        "library(\"recommenderlab\") "
      ]
    },
    {
      "cell_type": "code",
      "execution_count": null,
      "metadata": {
        "id": "TGJX89LGW7Bs"
      },
      "outputs": [],
      "source": [
        "%%R\n",
        "library(ggplot2)"
      ]
    },
    {
      "cell_type": "code",
      "execution_count": null,
      "metadata": {
        "id": "ld9OrekJXBVK"
      },
      "outputs": [],
      "source": [
        "%%R\n",
        "library(data.table)"
      ]
    },
    {
      "cell_type": "code",
      "execution_count": null,
      "metadata": {
        "id": "lvl85EDOXGaT"
      },
      "outputs": [],
      "source": [
        "%%R\n",
        "library(reshape2)"
      ]
    },
    {
      "cell_type": "code",
      "execution_count": null,
      "metadata": {
        "id": "yKrvev2UVOPE"
      },
      "outputs": [],
      "source": [
        "!pwd"
      ]
    },
    {
      "cell_type": "markdown",
      "metadata": {
        "id": "tZAiOuiAjahQ"
      },
      "source": [
        "# **2. Retrieving Data**"
      ]
    },
    {
      "cell_type": "code",
      "execution_count": null,
      "metadata": {
        "colab": {
          "base_uri": "https://localhost:8080/",
          "height": 206
        },
        "id": "Q0AnPK6TXhP6",
        "outputId": "b35e0ff3-8910-42b8-ba1b-edf1b89794f1"
      },
      "outputs": [
        {
          "data": {
            "text/html": [
              "\n",
              "  <div id=\"df-0482178f-e649-47ce-b546-d8baaeed09de\">\n",
              "    <div class=\"colab-df-container\">\n",
              "      <div>\n",
              "<style scoped>\n",
              "    .dataframe tbody tr th:only-of-type {\n",
              "        vertical-align: middle;\n",
              "    }\n",
              "\n",
              "    .dataframe tbody tr th {\n",
              "        vertical-align: top;\n",
              "    }\n",
              "\n",
              "    .dataframe thead th {\n",
              "        text-align: right;\n",
              "    }\n",
              "</style>\n",
              "<table border=\"1\" class=\"dataframe\">\n",
              "  <thead>\n",
              "    <tr style=\"text-align: right;\">\n",
              "      <th></th>\n",
              "      <th>movieId</th>\n",
              "      <th>title</th>\n",
              "      <th>genres</th>\n",
              "    </tr>\n",
              "  </thead>\n",
              "  <tbody>\n",
              "    <tr>\n",
              "      <th>0</th>\n",
              "      <td>1</td>\n",
              "      <td>Toy Story (1995)</td>\n",
              "      <td>Adventure|Animation|Children|Comedy|Fantasy</td>\n",
              "    </tr>\n",
              "    <tr>\n",
              "      <th>1</th>\n",
              "      <td>2</td>\n",
              "      <td>Jumanji (1995)</td>\n",
              "      <td>Adventure|Children|Fantasy</td>\n",
              "    </tr>\n",
              "    <tr>\n",
              "      <th>2</th>\n",
              "      <td>3</td>\n",
              "      <td>Grumpier Old Men (1995)</td>\n",
              "      <td>Comedy|Romance</td>\n",
              "    </tr>\n",
              "    <tr>\n",
              "      <th>3</th>\n",
              "      <td>4</td>\n",
              "      <td>Waiting to Exhale (1995)</td>\n",
              "      <td>Comedy|Drama|Romance</td>\n",
              "    </tr>\n",
              "    <tr>\n",
              "      <th>4</th>\n",
              "      <td>5</td>\n",
              "      <td>Father of the Bride Part II (1995)</td>\n",
              "      <td>Comedy</td>\n",
              "    </tr>\n",
              "  </tbody>\n",
              "</table>\n",
              "</div>\n",
              "      <button class=\"colab-df-convert\" onclick=\"convertToInteractive('df-0482178f-e649-47ce-b546-d8baaeed09de')\"\n",
              "              title=\"Convert this dataframe to an interactive table.\"\n",
              "              style=\"display:none;\">\n",
              "        \n",
              "  <svg xmlns=\"http://www.w3.org/2000/svg\" height=\"24px\"viewBox=\"0 0 24 24\"\n",
              "       width=\"24px\">\n",
              "    <path d=\"M0 0h24v24H0V0z\" fill=\"none\"/>\n",
              "    <path d=\"M18.56 5.44l.94 2.06.94-2.06 2.06-.94-2.06-.94-.94-2.06-.94 2.06-2.06.94zm-11 1L8.5 8.5l.94-2.06 2.06-.94-2.06-.94L8.5 2.5l-.94 2.06-2.06.94zm10 10l.94 2.06.94-2.06 2.06-.94-2.06-.94-.94-2.06-.94 2.06-2.06.94z\"/><path d=\"M17.41 7.96l-1.37-1.37c-.4-.4-.92-.59-1.43-.59-.52 0-1.04.2-1.43.59L10.3 9.45l-7.72 7.72c-.78.78-.78 2.05 0 2.83L4 21.41c.39.39.9.59 1.41.59.51 0 1.02-.2 1.41-.59l7.78-7.78 2.81-2.81c.8-.78.8-2.07 0-2.86zM5.41 20L4 18.59l7.72-7.72 1.47 1.35L5.41 20z\"/>\n",
              "  </svg>\n",
              "      </button>\n",
              "      \n",
              "  <style>\n",
              "    .colab-df-container {\n",
              "      display:flex;\n",
              "      flex-wrap:wrap;\n",
              "      gap: 12px;\n",
              "    }\n",
              "\n",
              "    .colab-df-convert {\n",
              "      background-color: #E8F0FE;\n",
              "      border: none;\n",
              "      border-radius: 50%;\n",
              "      cursor: pointer;\n",
              "      display: none;\n",
              "      fill: #1967D2;\n",
              "      height: 32px;\n",
              "      padding: 0 0 0 0;\n",
              "      width: 32px;\n",
              "    }\n",
              "\n",
              "    .colab-df-convert:hover {\n",
              "      background-color: #E2EBFA;\n",
              "      box-shadow: 0px 1px 2px rgba(60, 64, 67, 0.3), 0px 1px 3px 1px rgba(60, 64, 67, 0.15);\n",
              "      fill: #174EA6;\n",
              "    }\n",
              "\n",
              "    [theme=dark] .colab-df-convert {\n",
              "      background-color: #3B4455;\n",
              "      fill: #D2E3FC;\n",
              "    }\n",
              "\n",
              "    [theme=dark] .colab-df-convert:hover {\n",
              "      background-color: #434B5C;\n",
              "      box-shadow: 0px 1px 3px 1px rgba(0, 0, 0, 0.15);\n",
              "      filter: drop-shadow(0px 1px 2px rgba(0, 0, 0, 0.3));\n",
              "      fill: #FFFFFF;\n",
              "    }\n",
              "  </style>\n",
              "\n",
              "      <script>\n",
              "        const buttonEl =\n",
              "          document.querySelector('#df-0482178f-e649-47ce-b546-d8baaeed09de button.colab-df-convert');\n",
              "        buttonEl.style.display =\n",
              "          google.colab.kernel.accessAllowed ? 'block' : 'none';\n",
              "\n",
              "        async function convertToInteractive(key) {\n",
              "          const element = document.querySelector('#df-0482178f-e649-47ce-b546-d8baaeed09de');\n",
              "          const dataTable =\n",
              "            await google.colab.kernel.invokeFunction('convertToInteractive',\n",
              "                                                     [key], {});\n",
              "          if (!dataTable) return;\n",
              "\n",
              "          const docLinkHtml = 'Like what you see? Visit the ' +\n",
              "            '<a target=\"_blank\" href=https://colab.research.google.com/notebooks/data_table.ipynb>data table notebook</a>'\n",
              "            + ' to learn more about interactive tables.';\n",
              "          element.innerHTML = '';\n",
              "          dataTable['output_type'] = 'display_data';\n",
              "          await google.colab.output.renderOutput(dataTable, element);\n",
              "          const docLink = document.createElement('div');\n",
              "          docLink.innerHTML = docLinkHtml;\n",
              "          element.appendChild(docLink);\n",
              "        }\n",
              "      </script>\n",
              "    </div>\n",
              "  </div>\n",
              "  "
            ],
            "text/plain": [
              "   movieId                               title  \\\n",
              "0        1                    Toy Story (1995)   \n",
              "1        2                      Jumanji (1995)   \n",
              "2        3             Grumpier Old Men (1995)   \n",
              "3        4            Waiting to Exhale (1995)   \n",
              "4        5  Father of the Bride Part II (1995)   \n",
              "\n",
              "                                        genres  \n",
              "0  Adventure|Animation|Children|Comedy|Fantasy  \n",
              "1                   Adventure|Children|Fantasy  \n",
              "2                               Comedy|Romance  \n",
              "3                         Comedy|Drama|Romance  \n",
              "4                                       Comedy  "
            ]
          },
          "execution_count": 14,
          "metadata": {},
          "output_type": "execute_result"
        }
      ],
      "source": [
        "import pandas as pd\n",
        "\n",
        "df =pd.read_csv(\"drive/My Drive/Dataset/movies.csv\")\n",
        "df.head()"
      ]
    },
    {
      "cell_type": "code",
      "execution_count": null,
      "metadata": {
        "id": "fbiRpsJBYA7n"
      },
      "outputs": [],
      "source": [
        "%%R\n",
        "movie_data <- read.csv(\"drive/My Drive/Dataset/movies.csv\",stringsAsFactors=FALSE)"
      ]
    },
    {
      "cell_type": "code",
      "execution_count": null,
      "metadata": {
        "colab": {
          "base_uri": "https://localhost:8080/"
        },
        "id": "7EanGdQfYTMQ",
        "outputId": "92e5d441-4e88-46e3-8073-1dd0e96156b8"
      },
      "outputs": [
        {
          "name": "stdout",
          "output_type": "stream",
          "text": [
            "'data.frame':\t10329 obs. of  3 variables:\n",
            " $ movieId: int  1 2 3 4 5 6 7 8 9 10 ...\n",
            " $ title  : chr  \"Toy Story (1995)\" \"Jumanji (1995)\" \"Grumpier Old Men (1995)\" \"Waiting to Exhale (1995)\" ...\n",
            " $ genres : chr  \"Adventure|Animation|Children|Comedy|Fantasy\" \"Adventure|Children|Fantasy\" \"Comedy|Romance\" \"Comedy|Drama|Romance\" ...\n"
          ]
        }
      ],
      "source": [
        "%%R\n",
        "rating_data <- read.csv(\"drive/My Drive/Dataset/ratings.csv\")\n",
        "str(movie_data)"
      ]
    },
    {
      "cell_type": "code",
      "execution_count": null,
      "metadata": {
        "colab": {
          "base_uri": "https://localhost:8080/"
        },
        "id": "A0S1Xa8vYcGx",
        "outputId": "a65199b3-fc2f-4cd7-cb0e-eb5cc763f457"
      },
      "outputs": [
        {
          "name": "stdout",
          "output_type": "stream",
          "text": [
            "    movieId          title              genres         \n",
            " Min.   :     1   Length:10329       Length:10329      \n",
            " 1st Qu.:  3240   Class :character   Class :character  \n",
            " Median :  7088   Mode  :character   Mode  :character  \n",
            " Mean   : 31924                                        \n",
            " 3rd Qu.: 59900                                        \n",
            " Max.   :149532                                        \n"
          ]
        }
      ],
      "source": [
        "%%R\n",
        "summary(movie_data)"
      ]
    },
    {
      "cell_type": "code",
      "execution_count": null,
      "metadata": {
        "colab": {
          "base_uri": "https://localhost:8080/"
        },
        "id": "qSXuGiUoYhuq",
        "outputId": "b30d3359-d3e4-4d67-ee50-fe287efa72c6"
      },
      "outputs": [
        {
          "name": "stdout",
          "output_type": "stream",
          "text": [
            "  movieId                              title\n",
            "1       1                   Toy Story (1995)\n",
            "2       2                     Jumanji (1995)\n",
            "3       3            Grumpier Old Men (1995)\n",
            "4       4           Waiting to Exhale (1995)\n",
            "5       5 Father of the Bride Part II (1995)\n",
            "6       6                        Heat (1995)\n",
            "                                       genres\n",
            "1 Adventure|Animation|Children|Comedy|Fantasy\n",
            "2                  Adventure|Children|Fantasy\n",
            "3                              Comedy|Romance\n",
            "4                        Comedy|Drama|Romance\n",
            "5                                      Comedy\n",
            "6                       Action|Crime|Thriller\n"
          ]
        }
      ],
      "source": [
        "%%R\n",
        "head(movie_data)"
      ]
    },
    {
      "cell_type": "code",
      "execution_count": null,
      "metadata": {
        "colab": {
          "base_uri": "https://localhost:8080/"
        },
        "id": "abOK8IHkYkfd",
        "outputId": "81c172ec-b2d4-4a44-825e-49cc2f0e858b"
      },
      "outputs": [
        {
          "name": "stdout",
          "output_type": "stream",
          "text": [
            "     userId         movieId           rating        timestamp        \n",
            " Min.   :  1.0   Min.   :     1   Min.   :0.500   Min.   :8.286e+08  \n",
            " 1st Qu.:192.0   1st Qu.:  1073   1st Qu.:3.000   1st Qu.:9.711e+08  \n",
            " Median :383.0   Median :  2497   Median :3.500   Median :1.115e+09  \n",
            " Mean   :364.9   Mean   : 13381   Mean   :3.517   Mean   :1.130e+09  \n",
            " 3rd Qu.:557.0   3rd Qu.:  5991   3rd Qu.:4.000   3rd Qu.:1.275e+09  \n",
            " Max.   :668.0   Max.   :149532   Max.   :5.000   Max.   :1.452e+09  \n"
          ]
        }
      ],
      "source": [
        "%%R\n",
        "summary(rating_data)"
      ]
    },
    {
      "cell_type": "code",
      "execution_count": null,
      "metadata": {
        "colab": {
          "base_uri": "https://localhost:8080/"
        },
        "id": "llTuJYMZYo6l",
        "outputId": "998c20b2-acf5-4ce2-a55e-1333a5ba77e5"
      },
      "outputs": [
        {
          "name": "stdout",
          "output_type": "stream",
          "text": [
            "  userId movieId rating  timestamp\n",
            "1      1      16    4.0 1217897793\n",
            "2      1      24    1.5 1217895807\n",
            "3      1      32    4.0 1217896246\n",
            "4      1      47    4.0 1217896556\n",
            "5      1      50    4.0 1217896523\n",
            "6      1     110    4.0 1217896150\n"
          ]
        }
      ],
      "source": [
        "%%R\n",
        "head(rating_data)"
      ]
    },
    {
      "cell_type": "markdown",
      "metadata": {
        "id": "FWEp7BSYZMJd"
      },
      "source": [
        "# **3. Data Pre-processing** "
      ]
    },
    {
      "cell_type": "code",
      "execution_count": null,
      "metadata": {
        "colab": {
          "base_uri": "https://localhost:8080/"
        },
        "id": "P1lDKBxGYsJz",
        "outputId": "1ee3a7de-d834-4eaf-cf84-e0f3e00f6784"
      },
      "outputs": [
        {
          "name": "stdout",
          "output_type": "stream",
          "text": [
            "'data.frame':\t10329 obs. of  18 variables:\n",
            " $ Action     : int  0 0 0 0 0 1 0 0 1 1 ...\n",
            " $ Adventure  : int  1 1 0 0 0 0 0 1 0 1 ...\n",
            " $ Animation  : int  1 0 0 0 0 0 0 0 0 0 ...\n",
            " $ Children   : int  1 1 0 0 0 0 0 1 0 0 ...\n",
            " $ Comedy     : int  1 0 1 1 1 0 1 0 0 0 ...\n",
            " $ Crime      : int  0 0 0 0 0 1 0 0 0 0 ...\n",
            " $ Documentary: int  0 0 0 0 0 0 0 0 0 0 ...\n",
            " $ Drama      : int  0 0 0 1 0 0 0 0 0 0 ...\n",
            " $ Fantasy    : int  1 1 0 0 0 0 0 0 0 0 ...\n",
            " $ Film-Noir  : int  0 0 0 0 0 0 0 0 0 0 ...\n",
            " $ Horror     : int  0 0 0 0 0 0 0 0 0 0 ...\n",
            " $ Musical    : int  0 0 0 0 0 0 0 0 0 0 ...\n",
            " $ Mystery    : int  0 0 0 0 0 0 0 0 0 0 ...\n",
            " $ Romance    : int  0 0 1 1 0 0 1 0 0 0 ...\n",
            " $ Sci-Fi     : int  0 0 0 0 0 0 0 0 0 0 ...\n",
            " $ Thriller   : int  0 0 0 0 0 1 0 0 0 1 ...\n",
            " $ War        : int  0 0 0 0 0 0 0 0 0 0 ...\n",
            " $ Western    : int  0 0 0 0 0 0 0 0 0 0 ...\n"
          ]
        }
      ],
      "source": [
        "%%R\n",
        "movie_genre <- as.data.frame(movie_data$genres, stringsAsFactors=FALSE)\n",
        "library(data.table)\n",
        "movie_genre2 <- as.data.frame(tstrsplit(movie_genre[,1], '[|]', \n",
        "                                   type.convert=TRUE), \n",
        "                         stringsAsFactors=FALSE) \n",
        "colnames(movie_genre2) <- c(1:10)\n",
        "list_genre <- c(\"Action\", \"Adventure\", \"Animation\", \"Children\", \n",
        "                \"Comedy\", \"Crime\",\"Documentary\", \"Drama\", \"Fantasy\",\n",
        "                \"Film-Noir\", \"Horror\", \"Musical\", \"Mystery\",\"Romance\",\n",
        "                \"Sci-Fi\", \"Thriller\", \"War\", \"Western\")\n",
        "genre_mat1 <- matrix(0,10330,18)\n",
        "genre_mat1[1,] <- list_genre\n",
        "colnames(genre_mat1) <- list_genre\n",
        "for (index in 1:nrow(movie_genre2)) {\n",
        "  for (col in 1:ncol(movie_genre2)) {\n",
        "    gen_col = which(genre_mat1[1,] == movie_genre2[index,col]) \n",
        "    genre_mat1[index+1,gen_col] <- 1\n",
        "}\n",
        "}\n",
        "genre_mat2 <- as.data.frame(genre_mat1[-1,], stringsAsFactors=FALSE) #remove first row, which was the genre list\n",
        "for (col in 1:ncol(genre_mat2)) {\n",
        "  genre_mat2[,col] <- as.integer(genre_mat2[,col]) #convert from characters to integers\n",
        "} \n",
        "str(genre_mat2)"
      ]
    },
    {
      "cell_type": "code",
      "execution_count": null,
      "metadata": {
        "colab": {
          "base_uri": "https://localhost:8080/"
        },
        "id": "kaXACSsYY4Ej",
        "outputId": "096d702f-dc21-4ca6-f408-cf4381c686e5"
      },
      "outputs": [
        {
          "name": "stdout",
          "output_type": "stream",
          "text": [
            "  movieId                              title Action Adventure Animation\n",
            "1       1                   Toy Story (1995)      0         1         1\n",
            "2       2                     Jumanji (1995)      0         1         0\n",
            "3       3            Grumpier Old Men (1995)      0         0         0\n",
            "4       4           Waiting to Exhale (1995)      0         0         0\n",
            "5       5 Father of the Bride Part II (1995)      0         0         0\n",
            "6       6                        Heat (1995)      1         0         0\n",
            "  Children Comedy Crime Documentary Drama Fantasy Film-Noir Horror Musical\n",
            "1        1      1     0           0     0       1         0      0       0\n",
            "2        1      0     0           0     0       1         0      0       0\n",
            "3        0      1     0           0     0       0         0      0       0\n",
            "4        0      1     0           0     1       0         0      0       0\n",
            "5        0      1     0           0     0       0         0      0       0\n",
            "6        0      0     1           0     0       0         0      0       0\n",
            "  Mystery Romance Sci-Fi Thriller War Western\n",
            "1       0       0      0        0   0       0\n",
            "2       0       0      0        0   0       0\n",
            "3       0       1      0        0   0       0\n",
            "4       0       1      0        0   0       0\n",
            "5       0       0      0        0   0       0\n",
            "6       0       0      0        1   0       0\n"
          ]
        }
      ],
      "source": [
        "%%R\n",
        "SearchMatrix <- cbind(movie_data[,1:2], genre_mat2[])\n",
        "head(SearchMatrix)\n"
      ]
    },
    {
      "cell_type": "code",
      "execution_count": null,
      "metadata": {
        "colab": {
          "base_uri": "https://localhost:8080/"
        },
        "id": "5itB19liY9PZ",
        "outputId": "a04d25ac-69c3-464d-af96-5c4d2db19bfa"
      },
      "outputs": [
        {
          "name": "stdout",
          "output_type": "stream",
          "text": [
            "668 x 10325 rating matrix of class ‘realRatingMatrix’ with 105339 ratings.\n"
          ]
        }
      ],
      "source": [
        "%%R\n",
        "ratingMatrix <- dcast(rating_data, userId~movieId, value.var = \"rating\", na.rm=FALSE)\n",
        "ratingMatrix <- as.matrix(ratingMatrix[,-1]) #remove userIds\n",
        "#Convert rating matrix into a recommenderlab sparse matrix\n",
        "ratingMatrix <- as(ratingMatrix, \"realRatingMatrix\")\n",
        "ratingMatrix"
      ]
    },
    {
      "cell_type": "code",
      "execution_count": null,
      "metadata": {
        "colab": {
          "base_uri": "https://localhost:8080/"
        },
        "id": "upVsHxBJZCjp",
        "outputId": "df216432-0ef6-4f3c-a242-671f4898b26f"
      },
      "outputs": [
        {
          "name": "stdout",
          "output_type": "stream",
          "text": [
            " [1] \"HYBRID_realRatingMatrix\"       \"ALS_realRatingMatrix\"         \n",
            " [3] \"ALS_implicit_realRatingMatrix\" \"IBCF_realRatingMatrix\"        \n",
            " [5] \"LIBMF_realRatingMatrix\"        \"POPULAR_realRatingMatrix\"     \n",
            " [7] \"RANDOM_realRatingMatrix\"       \"RERECOMMEND_realRatingMatrix\" \n",
            " [9] \"SVD_realRatingMatrix\"          \"SVDF_realRatingMatrix\"        \n",
            "[11] \"UBCF_realRatingMatrix\"        \n"
          ]
        }
      ],
      "source": [
        "%%R\n",
        "recommendation_model <- recommenderRegistry$get_entries(dataType = \"realRatingMatrix\")\n",
        "names(recommendation_model)"
      ]
    },
    {
      "cell_type": "code",
      "execution_count": null,
      "metadata": {
        "colab": {
          "base_uri": "https://localhost:8080/"
        },
        "id": "a4h6RWGyZIXn",
        "outputId": "ff41d872-3c94-4f00-9948-0ebe79d0691c"
      },
      "outputs": [
        {
          "name": "stdout",
          "output_type": "stream",
          "text": [
            "$HYBRID_realRatingMatrix\n",
            "[1] \"Hybrid recommender that aggegates several recommendation strategies using weighted averages.\"\n",
            "\n",
            "$ALS_realRatingMatrix\n",
            "[1] \"Recommender for explicit ratings based on latent factors, calculated by alternating least squares algorithm.\"\n",
            "\n",
            "$ALS_implicit_realRatingMatrix\n",
            "[1] \"Recommender for implicit data based on latent factors, calculated by alternating least squares algorithm.\"\n",
            "\n",
            "$IBCF_realRatingMatrix\n",
            "[1] \"Recommender based on item-based collaborative filtering.\"\n",
            "\n",
            "$LIBMF_realRatingMatrix\n",
            "[1] \"Matrix factorization with LIBMF via package recosystem (https://cran.r-project.org/web/packages/recosystem/vignettes/introduction.html).\"\n",
            "\n",
            "$POPULAR_realRatingMatrix\n",
            "[1] \"Recommender based on item popularity.\"\n",
            "\n",
            "$RANDOM_realRatingMatrix\n",
            "[1] \"Produce random recommendations (real ratings).\"\n",
            "\n",
            "$RERECOMMEND_realRatingMatrix\n",
            "[1] \"Re-recommends highly rated items (real ratings).\"\n",
            "\n",
            "$SVD_realRatingMatrix\n",
            "[1] \"Recommender based on SVD approximation with column-mean imputation.\"\n",
            "\n",
            "$SVDF_realRatingMatrix\n",
            "[1] \"Recommender based on Funk SVD with gradient descend (https://sifter.org/~simon/journal/20061211.html).\"\n",
            "\n",
            "$UBCF_realRatingMatrix\n",
            "[1] \"Recommender based on user-based collaborative filtering.\"\n",
            "\n"
          ]
        }
      ],
      "source": [
        "%%R\n",
        "lapply(recommendation_model, \"[[\", \"description\")\n"
      ]
    },
    {
      "cell_type": "code",
      "execution_count": null,
      "metadata": {
        "colab": {
          "base_uri": "https://localhost:8080/"
        },
        "id": "AlW4SYpCZNoR",
        "outputId": "234bac03-8c2c-498d-aec7-1d0b4d5d9aad"
      },
      "outputs": [
        {
          "name": "stdout",
          "output_type": "stream",
          "text": [
            "$k\n",
            "[1] 30\n",
            "\n",
            "$method\n",
            "[1] \"Cosine\"\n",
            "\n",
            "$normalize\n",
            "[1] \"center\"\n",
            "\n",
            "$normalize_sim_matrix\n",
            "[1] FALSE\n",
            "\n",
            "$alpha\n",
            "[1] 0.5\n",
            "\n",
            "$na_as_zero\n",
            "[1] FALSE\n",
            "\n"
          ]
        }
      ],
      "source": [
        "%%R\n",
        "recommendation_model$IBCF_realRatingMatrix$parameters"
      ]
    },
    {
      "cell_type": "markdown",
      "metadata": {
        "id": "S-iRrCR0awLj"
      },
      "source": [
        "# **4. Exploring & Visualisation of Movie Data**"
      ]
    },
    {
      "cell_type": "code",
      "execution_count": null,
      "metadata": {
        "colab": {
          "base_uri": "https://localhost:8080/",
          "height": 497
        },
        "id": "YLB1a9TwZRtv",
        "outputId": "02b34bd8-0a0c-4010-853d-4a408ee7044a"
      },
      "outputs": [
        {
          "data": {
            "image/png": "[encoded data removed]"
          },
          "metadata": {},
          "output_type": "display_data"
        }
      ],
      "source": [
        "%%R\n",
        "similarity_mat <- similarity(ratingMatrix[1:4, ],\n",
        "                               method = \"cosine\",\n",
        "                               which = \"users\")\n",
        "as.matrix(similarity_mat)\n",
        "image(as.matrix(similarity_mat), main = \"User's Similarities\")"
      ]
    },
    {
      "cell_type": "code",
      "execution_count": null,
      "metadata": {
        "colab": {
          "base_uri": "https://localhost:8080/",
          "height": 497
        },
        "id": "pn-MT47LZVhL",
        "outputId": "037bce44-a21f-42b5-ac62-e96aa5eee05a"
      },
      "outputs": [
        {
          "data": {
            "image/png": "[encoded data removed]"
          },
          "metadata": {},
          "output_type": "display_data"
        }
      ],
      "source": [
        "%%R\n",
        "movie_similarity <- similarity(ratingMatrix[, 1:4], method =\n",
        "                                 \"cosine\", which = \"items\")\n",
        "as.matrix(movie_similarity)\n",
        "image(as.matrix(movie_similarity), main = \"Movies similarity\")"
      ]
    },
    {
      "cell_type": "code",
      "execution_count": null,
      "metadata": {
        "colab": {
          "base_uri": "https://localhost:8080/"
        },
        "id": "jSydo74QZZJr",
        "outputId": "7ab1104f-03ee-445f-c92a-eacf4eadf958"
      },
      "outputs": [
        {
          "name": "stdout",
          "output_type": "stream",
          "text": [
            " [1] 0.0 5.0 4.0 3.0 4.5 1.5 2.0 3.5 1.0 2.5 0.5\n"
          ]
        }
      ],
      "source": [
        "%%R\n",
        "rating_values <- as.vector(ratingMatrix@data)\n",
        "unique(rating_values) # extracting unique ratings"
      ]
    },
    {
      "cell_type": "code",
      "execution_count": null,
      "metadata": {
        "colab": {
          "base_uri": "https://localhost:8080/"
        },
        "id": "XYL3y_EzZbzY",
        "outputId": "1622f207-3db4-4680-8de0-8c1eb9238783"
      },
      "outputs": [
        {
          "name": "stdout",
          "output_type": "stream",
          "text": [
            "rating_values\n",
            "      0     0.5       1     1.5       2     2.5       3     3.5       4     4.5 \n",
            "6791761    1198    3258    1567    7943    5484   21729   12237   28880    8187 \n",
            "      5 \n",
            "  14856 \n"
          ]
        }
      ],
      "source": [
        "%%R\n",
        "Table_of_Ratings <- table(rating_values) # creating a count of movie ratings\n",
        "Table_of_Ratings"
      ]
    },
    {
      "cell_type": "code",
      "execution_count": null,
      "metadata": {
        "colab": {
          "base_uri": "https://localhost:8080/"
        },
        "id": "6udRna7zZgBh",
        "outputId": "e329d4ff-4ff3-4b25-e7f3-d9168416e8a3"
      },
      "outputs": [
        {
          "name": "stdout",
          "output_type": "stream",
          "text": [
            "    movie views                                     title\n",
            "296   296   325                       Pulp Fiction (1994)\n",
            "356   356   311                       Forrest Gump (1994)\n",
            "318   318   308          Shawshank Redemption, The (1994)\n",
            "480   480   294                      Jurassic Park (1993)\n",
            "593   593   290          Silence of the Lambs, The (1991)\n",
            "260   260   273 Star Wars: Episode IV - A New Hope (1977)\n"
          ]
        }
      ],
      "source": [
        "%%R\n",
        "library(ggplot2)\n",
        "movie_views <- colCounts(ratingMatrix) # count views for each movie\n",
        "table_views <- data.frame(movie = names(movie_views),\n",
        "                          views = movie_views) # create dataframe of views\n",
        "table_views <- table_views[order(table_views$views,\n",
        "                                 decreasing = TRUE), ] # sort by number of views\n",
        "table_views$title <- NA\n",
        "for (index in 1:10325){\n",
        "  table_views[index,3] <- as.character(subset(movie_data,\n",
        "                                         movie_data$movieId == table_views[index,1])$title)\n",
        "}\n",
        "table_views[1:6,]"
      ]
    },
    {
      "cell_type": "code",
      "execution_count": null,
      "metadata": {
        "colab": {
          "base_uri": "https://localhost:8080/",
          "height": 497
        },
        "id": "xK5tK8boZoXa",
        "outputId": "5c4ebad1-882e-4a6d-ff20-5c3643749323"
      },
      "outputs": [
        {
          "data": {
            "image/png": "[encoded data removed]"
          },
          "metadata": {},
          "output_type": "display_data"
        }
      ],
      "source": [
        "%%R\n",
        "ggplot(table_views[1:6, ], aes(x = title, y = views)) +\n",
        "  geom_bar(stat=\"identity\", fill = 'steelblue') +\n",
        "  geom_text(aes(label=views), vjust=-0.3, size=3.5) +\n",
        "  theme(axis.text.x = element_text(angle = 45, hjust = 1)) +\n",
        "  ggtitle(\"Total Views of the Top Films\")"
      ]
    },
    {
      "cell_type": "markdown",
      "metadata": {
        "id": "hbA6oilabRB2"
      },
      "source": [
        "### **Heatmap of Movie Ratings**"
      ]
    },
    {
      "cell_type": "code",
      "execution_count": null,
      "metadata": {
        "colab": {
          "base_uri": "https://localhost:8080/",
          "height": 497
        },
        "id": "MjjgbEspZuc2",
        "outputId": "151faa4c-bb90-4854-ade2-4adc95260737"
      },
      "outputs": [
        {
          "data": {
            "image/png": "[encoded data removed]"
          },
          "metadata": {},
          "output_type": "display_data"
        }
      ],
      "source": [
        "%%R\n",
        "image(ratingMatrix[1:20, 1:25], axes = FALSE, main = \"Heatmap of the first 25 rows and 25 columns\")"
      ]
    },
    {
      "cell_type": "markdown",
      "metadata": {
        "id": "xjI9-hLObq_a"
      },
      "source": [
        "#***5. Performing Data Preparation***"
      ]
    },
    {
      "cell_type": "code",
      "execution_count": null,
      "metadata": {
        "colab": {
          "base_uri": "https://localhost:8080/"
        },
        "id": "S0h5bOGFZxqR",
        "outputId": "4f86306d-e37f-46c8-cc33-1c76930fdfcb"
      },
      "outputs": [
        {
          "name": "stdout",
          "output_type": "stream",
          "text": [
            "420 x 447 rating matrix of class ‘realRatingMatrix’ with 38341 ratings.\n"
          ]
        }
      ],
      "source": [
        "%%R\n",
        "Performing Data Preparation\n",
        "We will conduct data preparation in the following three steps –\n",
        "\n",
        "Selecting useful data.\n",
        "Normalizing data.\n",
        "Binarizing the data.\n",
        "For finding useful data in our dataset, we have set the threshold for the minimum number of users who have rated a film as 50. This is also same for minimum number of views that are per film. This way, we have filtered a list of watched films from least-watched ones.\n",
        "movie_ratings <- ratingMatrix[rowCounts(ratingMatrix) > 50,\n",
        "                             colCounts(ratingMatrix) > 50]\n",
        "movie_ratings"
      ]
    },
    {
      "cell_type": "code",
      "execution_count": null,
      "metadata": {
        "colab": {
          "base_uri": "https://localhost:8080/",
          "height": 497
        },
        "id": "YQD8bH05Z_FH",
        "outputId": "594852ef-9dcf-41b9-ddb1-53572e6194e7"
      },
      "outputs": [
        {
          "data": {
            "image/png": "[encoded data removed]"
          },
          "metadata": {},
          "output_type": "display_data"
        }
      ],
      "source": [
        "%%R\n",
        "minimum_movies<- quantile(rowCounts(movie_ratings), 0.98)\n",
        "minimum_users <- quantile(colCounts(movie_ratings), 0.98)\n",
        "image(movie_ratings[rowCounts(movie_ratings) > minimum_movies,\n",
        "                     colCounts(movie_ratings) > minimum_users],\n",
        "main = \"Heatmap of the top users and movies\")"
      ]
    },
    {
      "cell_type": "code",
      "execution_count": null,
      "metadata": {
        "colab": {
          "base_uri": "https://localhost:8080/",
          "height": 532
        },
        "id": "WQ3ysAWVaCzx",
        "outputId": "64ad74f7-d5a9-4fcd-f9af-8938fd4ffd9b"
      },
      "outputs": [
        {
          "name": "stderr",
          "output_type": "stream",
          "text": [
            "R[write to console]: `stat_bin()` using `bins = 30`. Pick better value with `binwidth`.\n",
            "\n"
          ]
        },
        {
          "data": {
            "image/png": "[encoded data removed]"
          },
          "metadata": {},
          "output_type": "display_data"
        }
      ],
      "source": [
        "%%R\n",
        "average_ratings <- rowMeans(movie_ratings)\n",
        "qplot(average_ratings, fill=I(\"steelblue\"), col=I(\"red\")) +\n",
        "  ggtitle(\"Distribution of the average rating per user\")"
      ]
    },
    {
      "cell_type": "markdown",
      "metadata": {
        "id": "tXZL78wrPk_q"
      },
      "source": [
        "#**6. Data Normalization**"
      ]
    },
    {
      "cell_type": "markdown",
      "metadata": {
        "id": "flh0FFI7PtqB"
      },
      "source": [
        "***Normalization is a data preparation procedure to standardize the numerical values in a column to a common scale value.***"
      ]
    },
    {
      "cell_type": "code",
      "execution_count": null,
      "metadata": {
        "id": "g62xp3_XaF6T"
      },
      "outputs": [],
      "source": [
        "%%R\n",
        "normalized_ratings <- normalize(movie_ratings)\n",
        "sum(rowMeans(normalized_ratings) > 0.00001)\n",
        "image(normalized_ratings[rowCounts(normalized_ratings) > minimum_movies,\n",
        "                          colCounts(normalized_ratings) > minimum_users], \n",
        "      main = \"Normalized Ratings of the Top Users\")"
      ]
    },
    {
      "cell_type": "markdown",
      "metadata": {
        "id": "-I8-T2MPlXrW"
      },
      "source": [
        "![image.png](data:image/png;base64,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)"
      ]
    },
    {
      "cell_type": "markdown",
      "metadata": {
        "id": "KaMlmeYCUD_o"
      },
      "source": [
        "# **7. Performing** **Data** **Binarization**"
      ]
    },
    {
      "cell_type": "code",
      "execution_count": null,
      "metadata": {
        "colab": {
          "base_uri": "https://localhost:8080/",
          "height": 497
        },
        "id": "iUyjbuXZaJAb",
        "outputId": "e4d2c07d-5f4f-4668-f412-cbce2e40e447"
      },
      "outputs": [
        {
          "data": {
            "image/png": "[encoded data removed]"
          },
          "metadata": {},
          "output_type": "display_data"
        }
      ],
      "source": [
        "%%R\n",
        "binary_minimum_movies <- quantile(rowCounts(movie_ratings), 0.95)\n",
        "binary_minimum_users <- quantile(colCounts(movie_ratings), 0.95)\n",
        "#movies_watched <- binarize(movie_ratings, minRating = 1)\n",
        "good_rated_films <- binarize(movie_ratings, minRating = 3)\n",
        "image(good_rated_films[rowCounts(movie_ratings) > binary_minimum_movies,\n",
        "colCounts(movie_ratings) > binary_minimum_users],\n",
        "main = \"Heatmap of the top users and movies\")"
      ]
    },
    {
      "cell_type": "markdown",
      "metadata": {
        "id": "uRB9Qgu7UoGQ"
      },
      "source": [
        "#**8. Collaborative Filtering System**"
      ]
    },
    {
      "cell_type": "code",
      "execution_count": null,
      "metadata": {
        "id": "4415lPMIaMP2"
      },
      "outputs": [],
      "source": [
        "%%R\n",
        "sampled_data<- sample(x = c(TRUE, FALSE),\n",
        "                      size = nrow(movie_ratings),\n",
        "                      replace = TRUE,\n",
        "                      prob = c(0.8, 0.2))\n",
        "training_data <- movie_ratings[sampled_data, ]\n",
        "testing_data <- movie_ratings[!sampled_data, ]"
      ]
    },
    {
      "cell_type": "markdown",
      "metadata": {
        "id": "HTnChsq270n7"
      },
      "source": [
        "### 9. Building the Recommendation System"
      ]
    },
    {
      "cell_type": "code",
      "execution_count": null,
      "metadata": {
        "colab": {
          "base_uri": "https://localhost:8080/"
        },
        "id": "Ma239kjsaRLb",
        "outputId": "e67c01ae-98cf-4e62-ab3f-c4f82461b5db"
      },
      "outputs": [
        {
          "name": "stdout",
          "output_type": "stream",
          "text": [
            "$k\n",
            "[1] 30\n",
            "\n",
            "$method\n",
            "[1] \"Cosine\"\n",
            "\n",
            "$normalize\n",
            "[1] \"center\"\n",
            "\n",
            "$normalize_sim_matrix\n",
            "[1] FALSE\n",
            "\n",
            "$alpha\n",
            "[1] 0.5\n",
            "\n",
            "$na_as_zero\n",
            "[1] FALSE\n",
            "\n"
          ]
        }
      ],
      "source": [
        "%%R\n",
        "recommendation_system <- recommenderRegistry$get_entries(dataType =\"realRatingMatrix\")\n",
        "recommendation_system$IBCF_realRatingMatrix$parameters\n"
      ]
    },
    {
      "cell_type": "code",
      "execution_count": null,
      "metadata": {
        "colab": {
          "base_uri": "https://localhost:8080/"
        },
        "id": "9NLjPydMaUnw",
        "outputId": "5d69095a-21b6-409d-d4a4-2c39ff1d9cad"
      },
      "outputs": [
        {
          "name": "stdout",
          "output_type": "stream",
          "text": [
            "[1] \"Recommender\"\n",
            "attr(,\"package\")\n",
            "[1] \"recommenderlab\"\n"
          ]
        }
      ],
      "source": [
        "%%R\n",
        "recommen_model <- Recommender(data = training_data,\n",
        "                          method = \"IBCF\",\n",
        "                          parameter = list(k = 30))\n",
        "recommen_model\n",
        "class(recommen_model)"
      ]
    },
    {
      "cell_type": "code",
      "execution_count": null,
      "metadata": {
        "colab": {
          "base_uri": "https://localhost:8080/",
          "height": 497
        },
        "id": "H03hGFRPaXnt",
        "outputId": "f243e2c2-b8dc-4a67-db04-093e13bbf773"
      },
      "outputs": [
        {
          "data": {
            "image/png": "[encoded data removed]"
          },
          "metadata": {},
          "output_type": "display_data"
        }
      ],
      "source": [
        "%%R\n",
        "model_info <- getModel(recommen_model)\n",
        "class(model_info$sim)\n",
        "dim(model_info$sim)\n",
        "top_items <- 20\n",
        "image(model_info$sim[1:top_items, 1:top_items],\n",
        "   main = \"Heatmap of the first rows and columns\")"
      ]
    },
    {
      "cell_type": "code",
      "execution_count": null,
      "metadata": {
        "colab": {
          "base_uri": "https://localhost:8080/",
          "height": 532
        },
        "id": "IpFvlnQIaa1G",
        "outputId": "dce1d523-d8b0-4996-b6f7-167cab285275"
      },
      "outputs": [
        {
          "name": "stderr",
          "output_type": "stream",
          "text": [
            "R[write to console]: `stat_bin()` using `bins = 30`. Pick better value with `binwidth`.\n",
            "\n"
          ]
        },
        {
          "data": {
            "image/png": "[encoded data removed]"
          },
          "metadata": {},
          "output_type": "display_data"
        }
      ],
      "source": [
        "%%R\n",
        "sum_rows <- rowSums(model_info$sim > 0)\n",
        "table(sum_rows)\n",
        "sum_cols <- colSums(model_info$sim > 0)\n",
        "qplot(sum_cols, fill=I(\"steelblue\"), col=I(\"red\"))+ ggtitle(\"Distribution of the column count\")"
      ]
    },
    {
      "cell_type": "markdown",
      "metadata": {
        "id": "4JHxuwVD8epo"
      },
      "source": [
        "### 10. Recommender System On Dataset"
      ]
    },
    {
      "cell_type": "code",
      "execution_count": null,
      "metadata": {
        "colab": {
          "base_uri": "https://localhost:8080/"
        },
        "id": "e3_5bO0HaepY",
        "outputId": "9ce1dbc5-fdfd-48b9-b314-bb2ddb02b1f4"
      },
      "outputs": [
        {
          "name": "stdout",
          "output_type": "stream",
          "text": [
            "Recommendations as ‘topNList’ with n = 10 for 91 users. \n"
          ]
        }
      ],
      "source": [
        "%%R\n",
        "top_recommendations <- 10 # the number of items to recommend to each user\n",
        "predicted_recommendations <- predict(object = recommen_model,\n",
        "                          newdata = testing_data,\n",
        "                          n = top_recommendations)\n",
        "predicted_recommendations"
      ]
    },
    {
      "cell_type": "code",
      "execution_count": null,
      "metadata": {
        "colab": {
          "base_uri": "https://localhost:8080/"
        },
        "id": "Vv5TTGscah9z",
        "outputId": "1ce41e07-369d-4803-b60a-eaf26678f78f"
      },
      "outputs": [
        {
          "name": "stdout",
          "output_type": "stream",
          "text": [
            " [1] \"Heat (1995)\"                      \"Leaving Las Vegas (1995)\"        \n",
            " [3] \"Mr. Holland's Opus (1995)\"        \"Taxi Driver (1976)\"              \n",
            " [5] \"Philadelphia (1993)\"              \"Schindler's List (1993)\"         \n",
            " [7] \"Blade Runner (1982)\"              \"Dances with Wolves (1990)\"       \n",
            " [9] \"Silence of the Lambs, The (1991)\" \"North by Northwest (1959)\"       \n"
          ]
        }
      ],
      "source": [
        "%%R\n",
        "user1 <- predicted_recommendations@items[[1]] # recommendation for the first user\n",
        "movies_user1 <- predicted_recommendations@itemLabels[user1]\n",
        "movies_user2 <- movies_user1\n",
        "for (index in 1:10){\n",
        "  movies_user2[index] <- as.character(subset(movie_data,\n",
        "                                         movie_data$movieId == movies_user1[index])$title)\n",
        "}\n",
        "movies_user2"
      ]
    },
    {
      "cell_type": "code",
      "execution_count": null,
      "metadata": {
        "colab": {
          "base_uri": "https://localhost:8080/"
        },
        "id": "6-2OPvnRakoG",
        "outputId": "ddce2ace-c91f-4408-edfc-4b4ca4c89d3d"
      },
      "outputs": [
        {
          "name": "stdout",
          "output_type": "stream",
          "text": [
            "      [,1]  [,2]  [,3] [,4]\n",
            " [1,]    6   594  2692   32\n",
            " [2,]   25  1704 44191  145\n",
            " [3,]   62 68358   527  293\n",
            " [4,]  111  1343  4306  858\n",
            " [5,]  508  2858  1625 1047\n",
            " [6,]  527  3147   318 1302\n",
            " [7,]  541   474  1259 1339\n",
            " [8,]  590  4973  3000 1876\n",
            " [9,]  593  2716   293 1961\n",
            "[10,]  908    50  1276 2700\n"
          ]
        }
      ],
      "source": [
        "%%R\n",
        "recommendation_matrix <- sapply(predicted_recommendations@items,\n",
        "                      function(x){ as.integer(colnames(movie_ratings)[x]) }) # matrix with the recommendations for each user\n",
        "#dim(recc_matrix)\n",
        "recommendation_matrix[,1:4]"
      ]
    },
    {
      "cell_type": "markdown",
      "metadata": {
        "id": "DzuaI7LYiThK"
      },
      "source": [
        "![image.png](data:image/png;base64,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)"
      ]
    },
    {
      "cell_type": "markdown",
      "metadata": {
        "id": "989FrrV4oTtS"
      },
      "source": [
        "![image.png](data:image/png;base64,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)"
      ]
    }
  ],
  "metadata": {
    "colab": {
      "collapsed_sections": [],
      "name": "Movie-Recommendation.ipynb",
      "provenance": []
    },
    "kernelspec": {
      "display_name": "Python 3",
      "name": "python3"
    },
    "language_info": {
      "name": "python"
    }
  },
  "nbformat": 4,
  "nbformat_minor": 0
}